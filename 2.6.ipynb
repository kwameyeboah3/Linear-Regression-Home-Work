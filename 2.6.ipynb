{
 "cells": [
  {
   "cell_type": "code",
   "execution_count": 85,
   "metadata": {},
   "outputs": [],
   "source": [
    "import pandas as pd\n",
    "import numpy as np\n",
    "import matplotlib.pyplot as plt\n",
    "import statsmodels.api as sm\n",
    "from scipy.stats import t"
   ]
  },
  {
   "cell_type": "code",
   "execution_count": 86,
   "metadata": {},
   "outputs": [],
   "source": [
    "# Load data into Python\n",
    "CH01PR21 = pd.read_excel(\"C:\\\\Users\\\\kwame\\\\Downloads\\\\1.21.xlsx\",  names=[\"broken\", \"transfer\"])"
   ]
  },
  {
   "cell_type": "code",
   "execution_count": 87,
   "metadata": {},
   "outputs": [],
   "source": [
    "# Fit the linear regression model\n",
    "X = CH01PR21['transfer']\n",
    "y = CH01PR21['broken']\n",
    "X = sm.add_constant(X)  # Add an intercept term\n",
    "\n",
    "model = sm.OLS(y, X).fit()"
   ]
  },
  {
   "cell_type": "markdown",
   "metadata": {},
   "source": [
    "##### a. Estimate Beta_1 with a 95% CI and interpret"
   ]
  },
  {
   "cell_type": "code",
   "execution_count": 88,
   "metadata": {},
   "outputs": [
    {
     "name": "stdout",
     "output_type": "stream",
     "text": [
      "                 0          1\n",
      "const     8.670370  11.729630\n",
      "transfer  2.918388   5.081612\n"
     ]
    }
   ],
   "source": [
    "# Calculate confidence intervals for the coefficients with a 95% confidence level\n",
    "confidence_intervals = model.conf_int(alpha=0.05)\n",
    "\n",
    "# Print the confidence intervals\n",
    "print(confidence_intervals)"
   ]
  },
  {
   "cell_type": "markdown",
   "metadata": {},
   "source": [
    "Thus, the increase in number of broken ampules for every additional transfer is likely to be between 2.91 and 5.08 ampules."
   ]
  },
  {
   "cell_type": "markdown",
   "metadata": {},
   "source": [
    "##### b. Conduct a t test for HO: Beta_1 = 0"
   ]
  },
  {
   "cell_type": "code",
   "execution_count": 89,
   "metadata": {},
   "outputs": [
    {
     "name": "stdout",
     "output_type": "stream",
     "text": [
      "                            OLS Regression Results                            \n",
      "==============================================================================\n",
      "Dep. Variable:                 broken   R-squared:                       0.901\n",
      "Model:                            OLS   Adj. R-squared:                  0.889\n",
      "Method:                 Least Squares   F-statistic:                     72.73\n",
      "Date:                Wed, 18 Oct 2023   Prob (F-statistic):           2.75e-05\n",
      "Time:                        00:44:06   Log-Likelihood:                -17.016\n",
      "No. Observations:                  10   AIC:                             38.03\n",
      "Df Residuals:                       8   BIC:                             38.64\n",
      "Df Model:                           1                                         \n",
      "Covariance Type:            nonrobust                                         \n",
      "==============================================================================\n",
      "                 coef    std err          t      P>|t|      [0.025      0.975]\n",
      "------------------------------------------------------------------------------\n",
      "const         10.2000      0.663     15.377      0.000       8.670      11.730\n",
      "transfer       4.0000      0.469      8.528      0.000       2.918       5.082\n",
      "==============================================================================\n",
      "Omnibus:                        1.530   Durbin-Watson:                   1.875\n",
      "Prob(Omnibus):                  0.465   Jarque-Bera (JB):                0.753\n",
      "Skew:                          -0.113   Prob(JB):                        0.686\n",
      "Kurtosis:                       1.675   Cond. No.                         2.62\n",
      "==============================================================================\n",
      "\n",
      "Notes:\n",
      "[1] Standard Errors assume that the covariance matrix of the errors is correctly specified.\n"
     ]
    },
    {
     "name": "stderr",
     "output_type": "stream",
     "text": [
      "C:\\Users\\kwame\\AppData\\Roaming\\Python\\Python311\\site-packages\\scipy\\stats\\_stats_py.py:1806: UserWarning: kurtosistest only valid for n>=20 ... continuing anyway, n=10\n",
      "  warnings.warn(\"kurtosistest only valid for n>=20 ... continuing \"\n"
     ]
    }
   ],
   "source": [
    "print(model.summary())"
   ]
  },
  {
   "cell_type": "markdown",
   "metadata": {},
   "source": [
    "If Beta_1 is actually 0, the probability of observing b_1 equal to or more extreme than 4.0 is < 0.00001. Thus, there is sufficient evidence to reject HO and conclude that there is a linear association between the number of transfers and the number of broken ampules. We can also see that from the confidence interval, which is between 2.918 and 5.082 excludes zero (0), which confirms that there is a relationship."
   ]
  },
  {
   "cell_type": "markdown",
   "metadata": {},
   "source": [
    "##### c. Estimate Beta_0 with a 95% CI and interpret"
   ]
  },
  {
   "cell_type": "code",
   "execution_count": 90,
   "metadata": {},
   "outputs": [
    {
     "name": "stdout",
     "output_type": "stream",
     "text": [
      "                            OLS Regression Results                            \n",
      "==============================================================================\n",
      "Dep. Variable:                 broken   R-squared:                       0.901\n",
      "Model:                            OLS   Adj. R-squared:                  0.889\n",
      "Method:                 Least Squares   F-statistic:                     72.73\n",
      "Date:                Wed, 18 Oct 2023   Prob (F-statistic):           2.75e-05\n",
      "Time:                        00:44:06   Log-Likelihood:                -17.016\n",
      "No. Observations:                  10   AIC:                             38.03\n",
      "Df Residuals:                       8   BIC:                             38.64\n",
      "Df Model:                           1                                         \n",
      "Covariance Type:            nonrobust                                         \n",
      "==============================================================================\n",
      "                 coef    std err          t      P>|t|      [0.025      0.975]\n",
      "------------------------------------------------------------------------------\n",
      "const         10.2000      0.663     15.377      0.000       8.670      11.730\n",
      "transfer       4.0000      0.469      8.528      0.000       2.918       5.082\n",
      "==============================================================================\n",
      "Omnibus:                        1.530   Durbin-Watson:                   1.875\n",
      "Prob(Omnibus):                  0.465   Jarque-Bera (JB):                0.753\n",
      "Skew:                          -0.113   Prob(JB):                        0.686\n",
      "Kurtosis:                       1.675   Cond. No.                         2.62\n",
      "==============================================================================\n",
      "\n",
      "Notes:\n",
      "[1] Standard Errors assume that the covariance matrix of the errors is correctly specified.\n"
     ]
    },
    {
     "name": "stderr",
     "output_type": "stream",
     "text": [
      "C:\\Users\\kwame\\AppData\\Roaming\\Python\\Python311\\site-packages\\scipy\\stats\\_stats_py.py:1806: UserWarning: kurtosistest only valid for n>=20 ... continuing anyway, n=10\n",
      "  warnings.warn(\"kurtosistest only valid for n>=20 ... continuing \"\n"
     ]
    }
   ],
   "source": [
    "print(model.summary())"
   ]
  },
  {
   "cell_type": "markdown",
   "metadata": {},
   "source": [
    "The number of broken ampules in a box without transfers is likely to be between 8.670 and 11.730 because intervals constructed in this manner cover the 'true value' of Beta_0 95% of the time."
   ]
  },
  {
   "cell_type": "markdown",
   "metadata": {},
   "source": [
    "##### d. Conduct a t-test for HO: Beta_0 <= 9 at the 0.025 level of significance"
   ]
  },
  {
   "cell_type": "code",
   "execution_count": 91,
   "metadata": {},
   "outputs": [
    {
     "name": "stdout",
     "output_type": "stream",
     "text": [
      "T-statistic: 1.8090680674665813\n",
      "P-value: 0.05402226806321897\n",
      "Is the null hypothesis significant at the 0.025 level? False\n"
     ]
    },
    {
     "name": "stderr",
     "output_type": "stream",
     "text": [
      "C:\\Users\\kwame\\AppData\\Local\\Temp\\ipykernel_9112\\2389057690.py:5: FutureWarning: Series.__getitem__ treating keys as positions is deprecated. In a future version, integer keys will always be treated as labels (consistent with DataFrame behavior). To access a value by position, use `ser.iloc[pos]`\n",
      "  intercept_estimate = model.params[0]\n",
      "C:\\Users\\kwame\\AppData\\Local\\Temp\\ipykernel_9112\\2389057690.py:6: FutureWarning: Series.__getitem__ treating keys as positions is deprecated. In a future version, integer keys will always be treated as labels (consistent with DataFrame behavior). To access a value by position, use `ser.iloc[pos]`\n",
      "  intercept_std_error = model.bse[0]\n"
     ]
    }
   ],
   "source": [
    "# Specify the null hypothesis value (e.g., Beta_0 <= 9)\n",
    "null_hypothesis_value = 9\n",
    "\n",
    "# Get the intercept coefficient estimate and its standard error\n",
    "intercept_estimate = model.params[0]\n",
    "intercept_std_error = model.bse[0]\n",
    "\n",
    "# Calculate the degrees of freedom\n",
    "degrees_of_freedom = model.df_resid\n",
    "\n",
    "# Calculate the t-statistic\n",
    "t_statistic = (intercept_estimate - null_hypothesis_value) / intercept_std_error\n",
    "\n",
    "# Calculate the p-value for a one-tailed test\n",
    "p_value = 1 - t.cdf(abs(t_statistic), degrees_of_freedom)\n",
    "\n",
    "# Set the significance level\n",
    "alpha = 0.025\n",
    "\n",
    "# Check if the p-value is less than the significance level\n",
    "is_reject_null = p_value < alpha\n",
    "\n",
    "print(f\"T-statistic: {t_statistic}\")\n",
    "print(f\"P-value: {p_value}\")\n",
    "print(f\"Is the null hypothesis significant at the 0.025 level? {is_reject_null}\")\n"
   ]
  },
  {
   "cell_type": "markdown",
   "metadata": {},
   "source": [
    "##### e. Power of test "
   ]
  },
  {
   "cell_type": "code",
   "execution_count": 92,
   "metadata": {},
   "outputs": [
    {
     "name": "stdout",
     "output_type": "stream",
     "text": [
      "Power is: 0.9676345875387828\n"
     ]
    }
   ],
   "source": [
    "# Setting the parameters\n",
    "alpha = 0.05\n",
    "df = 8  # Degrees of freedom\n",
    "effect_size = 2\n",
    "non_central_param = effect_size / 0.5\n",
    "t_alpha = t.ppf(1 - alpha, df)\n",
    "\n",
    "# Calculate the power\n",
    "power = 1 - t.cdf(t_alpha, df, loc=non_central_param)\n",
    "\n",
    "print(f\"Power is: {power}\")"
   ]
  }
 ],
 "metadata": {
  "kernelspec": {
   "display_name": "Python 3",
   "language": "python",
   "name": "python3"
  },
  "language_info": {
   "codemirror_mode": {
    "name": "ipython",
    "version": 3
   },
   "file_extension": ".py",
   "mimetype": "text/x-python",
   "name": "python",
   "nbconvert_exporter": "python",
   "pygments_lexer": "ipython3",
   "version": "3.11.5"
  }
 },
 "nbformat": 4,
 "nbformat_minor": 2
}
