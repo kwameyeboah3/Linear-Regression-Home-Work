{
 "cells": [
  {
   "cell_type": "markdown",
   "metadata": {},
   "source": [
    "### Question 3.11\n",
    "A pharmacologist employed a first order simple linear regression model to study the relationship between the concentration of a drug in plasma \\(Y\\) and the log-dose of the drug \\(X\\). "
   ]
  },
  {
   "cell_type": "code",
   "execution_count": 68,
   "metadata": {},
   "outputs": [],
   "source": [
    "# Load libraries\n",
    "import pandas as pd\n",
    "import numpy as np\n",
    "import matplotlib.pyplot as plt\n",
    "import statsmodels.api as sm\n",
    "import scipy.stats as stats\n",
    "from statsmodels.stats.anova import anova_lm"
   ]
  },
  {
   "cell_type": "code",
   "execution_count": 69,
   "metadata": {},
   "outputs": [
    {
     "name": "stdout",
     "output_type": "stream",
     "text": [
      "   X    e\n",
      "0 -1  0.5\n",
      "1  0  2.1\n",
      "2  1 -3.4\n",
      "3 -1  0.3\n",
      "4  0 -1.7\n",
      "5  1  4.2\n",
      "6 -1 -0.6\n",
      "7  0  2.6\n",
      "8  1 -4.0\n"
     ]
    }
   ],
   "source": [
    "# Load data\n",
    "CH03PR11 = pd.read_excel(\"C:\\\\Users\\\\kwame\\\\Downloads\\\\CH03PR11.xlsx\")\n",
    "print(CH03PR11)"
   ]
  },
  {
   "cell_type": "markdown",
   "metadata": {},
   "source": [
    "#### a. The residual versus \\(X\\) plot shows that the variance is increasing as \\(X\\) increases, so the constant variance assumption is violated."
   ]
  },
  {
   "cell_type": "code",
   "execution_count": 70,
   "metadata": {},
   "outputs": [
    {
     "data": {
      "image/png": "[encoded data removed]",
      "text/plain": [
       "<Figure size 640x480 with 1 Axes>"
      ]
     },
     "metadata": {},
     "output_type": "display_data"
    }
   ],
   "source": [
    "# Create a scatterplot\n",
    "plt.scatter(CH03PR11['X'], CH03PR11['e'])\n",
    "\n",
    "# Add a horizontal reference line at y = 0\n",
    "plt.axhline(y=0, color='red')  # You can change the line color if desired\n",
    "\n",
    "# Label the axes (optional)\n",
    "plt.xlabel('X')\n",
    "plt.ylabel('e')\n",
    "\n",
    "# Show the plot\n",
    "plt.show()"
   ]
  },
  {
   "cell_type": "markdown",
   "metadata": {},
   "source": [
    "#### b. The test statistic \\(\\chi^2_{BP} = 3.7\\), which is not bigger than the \\(\\chi^2\\) critical value, 3.84, so we fail to reject \\(H_0\\). "
   ]
  },
  {
   "cell_type": "code",
   "execution_count": 71,
   "metadata": {},
   "outputs": [
    {
     "name": "stdout",
     "output_type": "stream",
     "text": [
      "SSR: 330.0416666666667\n",
      "df_SSR: 1\n",
      "MSR: 330.0416666666667\n",
      "SSE: 44.9926888888889\n",
      "df_SSE: 7\n",
      "MSE: 6.4275269841269855\n",
      "F-statistic: 51.34815730555729\n",
      "p-value: 0.00018282631736687982\n",
      "True\n"
     ]
    }
   ],
   "source": [
    "import pandas as pd\n",
    "import statsmodels.api as sm\n",
    "from scipy import stats\n",
    "\n",
    "# Assuming 'e' and 'X' are columns in your DataFrame\n",
    "# Replace 'e' and 'X' with your actual column names if different\n",
    "\n",
    "# Fit a linear regression model\n",
    "X = sm.add_constant(CH03PR11['X'])\n",
    "y_squared = CH03PR11['e'] ** 2\n",
    "model = sm.OLS(y_squared, X).fit()\n",
    "\n",
    "# Calculate the sum of squares regression (SSR) and sum of squares error (SSE)\n",
    "SSR = model.ess\n",
    "SSE = model.ssr\n",
    "\n",
    "# Calculate the degrees of freedom for SSR and SSE\n",
    "df_SSR = 1  # Number of predictors (X)\n",
    "df_SSE = len(CH03PR11) - 2  # Residual degrees of freedom\n",
    "\n",
    "# Calculate the mean squares for SSR and SSE\n",
    "MSR = SSR / df_SSR\n",
    "MSE = SSE / df_SSE\n",
    "\n",
    "# Calculate the F-statistic\n",
    "F_statistic = MSR / MSE\n",
    "\n",
    "# Calculate the p-value for the F-statistic\n",
    "p_value = 1 - stats.f.cdf(F_statistic, df_SSR, df_SSE)\n",
    "\n",
    "# Print the ANOVA table\n",
    "print(\"SSR:\", SSR)\n",
    "print(\"df_SSR:\", df_SSR)\n",
    "print(\"MSR:\", MSR)\n",
    "print(\"SSE:\", SSE)\n",
    "print(\"df_SSE:\", df_SSE)\n",
    "print(\"MSE:\", MSE)\n",
    "print(\"F-statistic:\", F_statistic)\n",
    "print(\"p-value:\", p_value)\n",
    "\n",
    "\n",
    "# Calculate the critical value from the F-distribution\n",
    "alpha = 0.05\n",
    "critical_value = stats.f.ppf(1 - alpha, df_SSR, df_SSE)\n",
    "\n",
    "# Check if F-statistic is greater than the critical value\n",
    "result = F_statistic > critical_value\n",
    "\n",
    "# Check if F-statistic is greater than the critical value\n",
    "result = F_statistic > critical_value\n",
    "\n",
    "print(result)\n"
   ]
  }
 ],
 "metadata": {
  "kernelspec": {
   "display_name": "Python 3",
   "language": "python",
   "name": "python3"
  },
  "language_info": {
   "codemirror_mode": {
    "name": "ipython",
    "version": 3
   },
   "file_extension": ".py",
   "mimetype": "text/x-python",
   "name": "python",
   "nbconvert_exporter": "python",
   "pygments_lexer": "ipython3",
   "version": "3.11.5"
  }
 },
 "nbformat": 4,
 "nbformat_minor": 2
}
