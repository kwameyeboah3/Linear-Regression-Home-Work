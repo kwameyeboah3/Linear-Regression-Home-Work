{
 "cells": [
  {
   "cell_type": "markdown",
   "metadata": {},
   "source": [
    "QUESTION 1.23"
   ]
  },
  {
   "cell_type": "markdown",
   "metadata": {},
   "source": [
    "#### Importing libraries"
   ]
  },
  {
   "cell_type": "code",
   "execution_count": 1,
   "metadata": {},
   "outputs": [],
   "source": [
    "import pandas as pd\n",
    "import numpy as np\n",
    "import matplotlib.pyplot as plt\n",
    "import statsmodels.api as sm"
   ]
  },
  {
   "cell_type": "markdown",
   "metadata": {},
   "source": [
    "### Load the data"
   ]
  },
  {
   "cell_type": "code",
   "execution_count": 2,
   "metadata": {},
   "outputs": [],
   "source": [
    "data = pd.read_excel(\"C:\\\\Users\\\\kwame\\\\Downloads\\\\users.stat.ufl.edu_~rrandles_sta4210_Rclassnotes_data_textdatasets_KutnerData_Chapter  1 Data Sets_CH01PR19.txt.xlsx\", names=[\"GPA\", \"ACT\"])"
   ]
  },
  {
   "cell_type": "markdown",
   "metadata": {},
   "source": [
    "####  Perform linear regression"
   ]
  },
  {
   "cell_type": "code",
   "execution_count": 3,
   "metadata": {},
   "outputs": [],
   "source": [
    "X = data[\"ACT\"]\n",
    "y = data[\"GPA\"]\n",
    "X = sm.add_constant(X)  # Add a constant for the intercept\n",
    "model = sm.OLS(y, X).fit()"
   ]
  },
  {
   "cell_type": "markdown",
   "metadata": {},
   "source": [
    "#### a. Obtain the residuals and verify they sum to 0"
   ]
  },
  {
   "cell_type": "code",
   "execution_count": 4,
   "metadata": {},
   "outputs": [
    {
     "name": "stdout",
     "output_type": "stream",
     "text": [
      "Sum of residuals: 3.8191672047105385e-14\n"
     ]
    }
   ],
   "source": [
    "residuals_sum = np.sum(model.resid)\n",
    "print(\"Sum of residuals:\", residuals_sum)"
   ]
  },
  {
   "cell_type": "markdown",
   "metadata": {},
   "source": [
    "#### b. Estimate sigma^2 and sigma"
   ]
  },
  {
   "cell_type": "code",
   "execution_count": 5,
   "metadata": {},
   "outputs": [
    {
     "name": "stdout",
     "output_type": "stream",
     "text": [
      "Estimated root mean squared error (sigma): 0.6231250371075046\n",
      "Estimated mean squared error (sigma^2): 0.3882848118702289\n"
     ]
    }
   ],
   "source": [
    "root_MSE = model.mse_resid ** 0.5\n",
    "MSE = model.mse_resid\n",
    "print(\"Estimated root mean squared error (sigma):\", root_MSE)\n",
    "print(\"Estimated mean squared error (sigma^2):\", MSE)"
   ]
  }
 ],
 "metadata": {
  "kernelspec": {
   "display_name": "Python 3",
   "language": "python",
   "name": "python3"
  },
  "language_info": {
   "codemirror_mode": {
    "name": "ipython",
    "version": 3
   },
   "file_extension": ".py",
   "mimetype": "text/x-python",
   "name": "python",
   "nbconvert_exporter": "python",
   "pygments_lexer": "ipython3",
   "version": "3.11.5"
  },
  "orig_nbformat": 4
 },
 "nbformat": 4,
 "nbformat_minor": 2
}
