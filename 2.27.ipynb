{
 "cells": [
  {
   "cell_type": "code",
   "execution_count": 29,
   "metadata": {},
   "outputs": [],
   "source": [
    "import pandas as pd\n",
    "import numpy as np\n",
    "import matplotlib.pyplot as plt\n",
    "import statsmodels.api as sm"
   ]
  },
  {
   "cell_type": "code",
   "execution_count": 30,
   "metadata": {},
   "outputs": [],
   "source": [
    "# Load data into Python\n",
    "CH01PR27 = pd.read_excel(\"C:\\\\Users\\\\kwame\\\\Downloads\\\\CH01PR27.xlsx\")"
   ]
  },
  {
   "cell_type": "code",
   "execution_count": 31,
   "metadata": {},
   "outputs": [
    {
     "data": {
      "image/png": "[encoded data removed]",
      "text/plain": [
       "<Figure size 800x600 with 1 Axes>"
      ]
     },
     "metadata": {},
     "output_type": "display_data"
    }
   ],
   "source": [
    "# Create a scatter plot\n",
    "plt.figure(figsize=(8, 6))\n",
    "plt.scatter(CH01PR27['X'], CH01PR27['Y'], marker='o', color='b')\n",
    "plt.xlabel(\"Age (years)\")\n",
    "plt.ylabel(\"Muscle Mass\")\n",
    "plt.title(\"Scatter Plot of Age vs. Muscle Mass\")\n",
    "\n",
    "plt.show()"
   ]
  },
  {
   "cell_type": "markdown",
   "metadata": {},
   "source": [
    "The plot really shows there is an inverse relationship between Muscle mass and age. This means that B1 is less than 0"
   ]
  },
  {
   "cell_type": "code",
   "execution_count": 32,
   "metadata": {},
   "outputs": [
    {
     "name": "stdout",
     "output_type": "stream",
     "text": [
      "                            OLS Regression Results                            \n",
      "==============================================================================\n",
      "Dep. Variable:                      Y   R-squared:                       0.750\n",
      "Model:                            OLS   Adj. R-squared:                  0.746\n",
      "Method:                 Least Squares   F-statistic:                     174.1\n",
      "Date:                Wed, 18 Oct 2023   Prob (F-statistic):           4.12e-19\n",
      "Time:                        00:57:53   Log-Likelihood:                -210.17\n",
      "No. Observations:                  60   AIC:                             424.3\n",
      "Df Residuals:                      58   BIC:                             428.5\n",
      "Df Model:                           1                                         \n",
      "Covariance Type:            nonrobust                                         \n",
      "==============================================================================\n",
      "                 coef    std err          t      P>|t|      [0.025      0.975]\n",
      "------------------------------------------------------------------------------\n",
      "const        156.3466      5.512     28.363      0.000     145.313     167.381\n",
      "X             -1.1900      0.090    -13.193      0.000      -1.371      -1.009\n",
      "==============================================================================\n",
      "Omnibus:                        1.213   Durbin-Watson:                   2.416\n",
      "Prob(Omnibus):                  0.545   Jarque-Bera (JB):                1.208\n",
      "Skew:                           0.319   Prob(JB):                        0.547\n",
      "Kurtosis:                       2.726   Cond. No.                         319.\n",
      "==============================================================================\n",
      "\n",
      "Notes:\n",
      "[1] Standard Errors assume that the covariance matrix of the errors is correctly specified.\n"
     ]
    }
   ],
   "source": [
    "# Fit the model\n",
    "X = CH01PR27[\"X\"]\n",
    "X = sm.add_constant(X)\n",
    "y = CH01PR27[\"Y\"]\n",
    "model = sm.OLS(y, X).fit()\n",
    "# Print the summary of the OLS model\n",
    "print(model.summary())"
   ]
  },
  {
   "cell_type": "markdown",
   "metadata": {},
   "source": [
    "##### a. Conduct a test to decide whether there is a negative linear association"
   ]
  },
  {
   "cell_type": "code",
   "execution_count": 33,
   "metadata": {},
   "outputs": [
    {
     "name": "stdout",
     "output_type": "stream",
     "text": [
      "t*: -13.193256811621591\n",
      "p: 4.123986901672524e-19\n"
     ]
    },
    {
     "name": "stderr",
     "output_type": "stream",
     "text": [
      "C:\\Users\\kwame\\AppData\\Local\\Temp\\ipykernel_7912\\857833466.py:1: FutureWarning: Series.__getitem__ treating keys as positions is deprecated. In a future version, integer keys will always be treated as labels (consistent with DataFrame behavior). To access a value by position, use `ser.iloc[pos]`\n",
      "  t_stat = model.tvalues[1]\n",
      "C:\\Users\\kwame\\AppData\\Local\\Temp\\ipykernel_7912\\857833466.py:2: FutureWarning: Series.__getitem__ treating keys as positions is deprecated. In a future version, integer keys will always be treated as labels (consistent with DataFrame behavior). To access a value by position, use `ser.iloc[pos]`\n",
      "  p_value = model.pvalues[1]\n"
     ]
    },
    {
     "data": {
      "text/plain": [
       "True"
      ]
     },
     "execution_count": 33,
     "metadata": {},
     "output_type": "execute_result"
    }
   ],
   "source": [
    "t_stat = model.tvalues[1]\n",
    "p_value = model.pvalues[1]\n",
    "alpha = 0.05\n",
    "print(\"t*:\",t_stat)\n",
    "print(\"p:\",p_value)\n",
    "p_value < alpha  "
   ]
  },
  {
   "cell_type": "markdown",
   "metadata": {},
   "source": [
    "##### b. Since t* for b1 = 0 is -13.19 and less than -1.67, we reject Ho"
   ]
  },
  {
   "cell_type": "markdown",
   "metadata": {},
   "source": [
    "##### c. Estimate the 95% confidence interval for beta1"
   ]
  },
  {
   "cell_type": "code",
   "execution_count": 34,
   "metadata": {},
   "outputs": [
    {
     "data": {
      "text/html": [
       "<div>\n",
       "<style scoped>\n",
       "    .dataframe tbody tr th:only-of-type {\n",
       "        vertical-align: middle;\n",
       "    }\n",
       "\n",
       "    .dataframe tbody tr th {\n",
       "        vertical-align: top;\n",
       "    }\n",
       "\n",
       "    .dataframe thead th {\n",
       "        text-align: right;\n",
       "    }\n",
       "</style>\n",
       "<table border=\"1\" class=\"dataframe\">\n",
       "  <thead>\n",
       "    <tr style=\"text-align: right;\">\n",
       "      <th></th>\n",
       "      <th>0</th>\n",
       "      <th>1</th>\n",
       "    </tr>\n",
       "  </thead>\n",
       "  <tbody>\n",
       "    <tr>\n",
       "      <th>const</th>\n",
       "      <td>145.312572</td>\n",
       "      <td>167.380556</td>\n",
       "    </tr>\n",
       "    <tr>\n",
       "      <th>X</th>\n",
       "      <td>-1.370545</td>\n",
       "      <td>-1.009446</td>\n",
       "    </tr>\n",
       "  </tbody>\n",
       "</table>\n",
       "</div>"
      ],
      "text/plain": [
       "                0           1\n",
       "const  145.312572  167.380556\n",
       "X       -1.370545   -1.009446"
      ]
     },
     "execution_count": 34,
     "metadata": {},
     "output_type": "execute_result"
    }
   ],
   "source": [
    "confidence_interval = model.conf_int(alpha=0.05)\n",
    "confidence_interval"
   ]
  },
  {
   "cell_type": "markdown",
   "metadata": {},
   "source": [
    "Both the upper and lower limits of the confidence interval for B1 are all negative, a strong indicition that indeed the relationship is an inverse linear rationship."
   ]
  }
 ],
 "metadata": {
  "kernelspec": {
   "display_name": "Python 3",
   "language": "python",
   "name": "python3"
  },
  "language_info": {
   "codemirror_mode": {
    "name": "ipython",
    "version": 3
   },
   "file_extension": ".py",
   "mimetype": "text/x-python",
   "name": "python",
   "nbconvert_exporter": "python",
   "pygments_lexer": "ipython3",
   "version": "3.11.5"
  }
 },
 "nbformat": 4,
 "nbformat_minor": 2
}
