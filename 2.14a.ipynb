{
 "cells": [
  {
   "cell_type": "code",
   "execution_count": 5,
   "metadata": {},
   "outputs": [],
   "source": [
    "import pandas as pd\n",
    "import numpy as np\n",
    "import matplotlib.pyplot as plt\n",
    "import statsmodels.api as sm"
   ]
  },
  {
   "cell_type": "code",
   "execution_count": 6,
   "metadata": {},
   "outputs": [],
   "source": [
    "data = pd.read_excel(\"C:\\\\Users\\\\kwame\\\\Downloads\\\\users.stat.ufl.edu_~rrandles_sta4210_Rclassnotes_data_textdatasets_KutnerData_Chapter  1 Data Sets_CH01PR19.txt.xlsx\", names=[\"GPA\", \"ACT\"])"
   ]
  },
  {
   "cell_type": "code",
   "execution_count": 7,
   "metadata": {},
   "outputs": [],
   "source": [
    "# Fit the model\n",
    "X = data[\"ACT\"]\n",
    "X = sm.add_constant(X)\n",
    "y = data[\"GPA\"]\n",
    "model = sm.OLS(y, X).fit()"
   ]
  },
  {
   "cell_type": "markdown",
   "metadata": {},
   "source": [
    "##### a. 95% CI on mean GPA for students whose ACT test score is 28 and interpret"
   ]
  },
  {
   "cell_type": "code",
   "execution_count": 10,
   "metadata": {},
   "outputs": [
    {
     "name": "stdout",
     "output_type": "stream",
     "text": [
      "Predicted GPA for ACT = 28: 3.2012088406147248\n",
      "[[3.06138433 3.34103335]]\n"
     ]
    }
   ],
   "source": [
    "X_new = 28\n",
    "\n",
    "X_new_with_intercept = [1, X_new]  \n",
    "\n",
    "# Make the prediction\n",
    "prediction = model.predict(X_new_with_intercept)\n",
    "\n",
    "print(f\"Predicted GPA for ACT = {X_new}: {prediction[0]}\")\n",
    "\n",
    "act_score = 28\n",
    "confidence_interval = model.get_prediction([1, act_score]).conf_int(alpha=0.05)\n",
    "print(confidence_interval)"
   ]
  },
  {
   "cell_type": "markdown",
   "metadata": {},
   "source": [
    "We expect students whose ACT test score is 28 to have a cGPA of 3.2, but it could be as low as 3.06 or as high as 3.34."
   ]
  }
 ],
 "metadata": {
  "kernelspec": {
   "display_name": "Python 3",
   "language": "python",
   "name": "python3"
  },
  "language_info": {
   "codemirror_mode": {
    "name": "ipython",
    "version": 3
   },
   "file_extension": ".py",
   "mimetype": "text/x-python",
   "name": "python",
   "nbconvert_exporter": "python",
   "pygments_lexer": "ipython3",
   "version": "3.11.5"
  }
 },
 "nbformat": 4,
 "nbformat_minor": 2
}
