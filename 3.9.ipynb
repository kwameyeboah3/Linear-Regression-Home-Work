{
 "cells": [
  {
   "cell_type": "markdown",
   "metadata": {},
   "source": [
    "### Question 3.9"
   ]
  },
  {
   "cell_type": "code",
   "execution_count": 9,
   "metadata": {},
   "outputs": [],
   "source": [
    "# Load libraries\n",
    "import pandas as pd\n",
    "import numpy as np\n",
    "import matplotlib.pyplot as plt\n",
    "import statsmodels.api as sm\n",
    "import scipy.stats as stats\n",
    "from sklearn.linear_model import LinearRegression\n",
    "from scipy.stats import levene\n",
    "from stemgraphic import stem_graphic"
   ]
  },
  {
   "cell_type": "code",
   "execution_count": 10,
   "metadata": {},
   "outputs": [],
   "source": [
    "# Load data\n",
    "CH03PR09 = pd.read_excel(\"C:\\\\Users\\\\kwame\\\\Downloads\\\\CH03PR09.xlsx\")"
   ]
  },
  {
   "cell_type": "markdown",
   "metadata": {},
   "source": [
    "An economist studying the relation between household electricity consumption \\(Y\\) and number of rooms in the home \\(X\\) employed a first order simple linear regression model and obtained the residuals. Below, the residuals are plotted against \\(X\\). Notice how there are runs of points above and then below and then above 0. This is a non-random pattern that indicates a linear relationship may not be appropriate.  The line is under-estimating \\(Y\\) for small values of \\(X\\), as evidenced by the positive residuals (\\(Y-\\hat{Y}>0 \\rightarrow Y > \\hat{Y}\\)) for small \\(X\\). Then in the middle, the line is over-estimating \\(Y\\), as evidenced by negative residuals for \\(4 \\leq X \\leq 8\\) (\\(Y-\\hat{Y}<0 \\rightarrow Y < \\hat{Y}\\)). Then the line is over-estimating \\(Y\\) again for large values of \\(X\\), as evidenced by the positive residuals for \\(X > 8\\). This leads us to believe that if we were to plot \\(Y\\) versus \\(X\\) we would see a pattern in the data similar to that shown in Figure 3.13(c) (page 130). We could try transforming \\(X\\) using the inverse, or raise it to some other power less than 0.  "
   ]
  },
  {
   "cell_type": "code",
   "execution_count": 11,
   "metadata": {},
   "outputs": [
    {
     "data": {
      "image/png": "[encoded data removed]",
      "text/plain": [
       "<Figure size 640x480 with 1 Axes>"
      ]
     },
     "metadata": {},
     "output_type": "display_data"
    }
   ],
   "source": [
    "# Create a scatterplot\n",
    "plt.scatter(CH03PR09['X'], CH03PR09['e'])\n",
    "\n",
    "# Add a horizontal reference line at y = 0\n",
    "plt.axhline(y=0, color='red')  # You can change the line color if desired\n",
    "\n",
    "# Label the axes (optional)\n",
    "plt.xlabel('X')\n",
    "plt.ylabel('e')\n",
    "\n",
    "# Show the plot\n",
    "plt.show()"
   ]
  }
 ],
 "metadata": {
  "kernelspec": {
   "display_name": "Python 3",
   "language": "python",
   "name": "python3"
  },
  "language_info": {
   "codemirror_mode": {
    "name": "ipython",
    "version": 3
   },
   "file_extension": ".py",
   "mimetype": "text/x-python",
   "name": "python",
   "nbconvert_exporter": "python",
   "pygments_lexer": "ipython3",
   "version": "3.11.5"
  }
 },
 "nbformat": 4,
 "nbformat_minor": 2
}
