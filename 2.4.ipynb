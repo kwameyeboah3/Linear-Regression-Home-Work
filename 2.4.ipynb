{
 "cells": [
  {
   "cell_type": "markdown",
   "metadata": {},
   "source": [
    "### Question 2.4"
   ]
  },
  {
   "cell_type": "code",
   "execution_count": 21,
   "metadata": {},
   "outputs": [],
   "source": [
    "import pandas as pd\n",
    "import numpy as np\n",
    "import matplotlib.pyplot as plt\n",
    "import statsmodels.api as sm"
   ]
  },
  {
   "cell_type": "code",
   "execution_count": 15,
   "metadata": {},
   "outputs": [],
   "source": [
    "# Load data \n",
    "data = pd.read_excel(\"C:\\\\Users\\\\kwame\\\\Downloads\\\\users.stat.ufl.edu_~rrandles_sta4210_Rclassnotes_data_textdatasets_KutnerData_Chapter  1 Data Sets_CH01PR19.txt.xlsx\", names=[\"GPA\", \"ACT\"])"
   ]
  },
  {
   "cell_type": "markdown",
   "metadata": {},
   "source": [
    "#### a. Fit the linear regression model"
   ]
  },
  {
   "cell_type": "code",
   "execution_count": 25,
   "metadata": {},
   "outputs": [
    {
     "name": "stdout",
     "output_type": "stream",
     "text": [
      "                            OLS Regression Results                            \n",
      "==============================================================================\n",
      "Dep. Variable:                    GPA   R-squared:                       0.073\n",
      "Model:                            OLS   Adj. R-squared:                  0.065\n",
      "Method:                 Least Squares   F-statistic:                     9.240\n",
      "Date:                Wed, 18 Oct 2023   Prob (F-statistic):            0.00292\n",
      "Time:                        00:31:00   Log-Likelihood:                -112.50\n",
      "No. Observations:                 120   AIC:                             229.0\n",
      "Df Residuals:                     118   BIC:                             234.6\n",
      "Df Model:                           1                                         \n",
      "Covariance Type:            nonrobust                                         \n",
      "==============================================================================\n",
      "                 coef    std err          t      P>|t|      [0.025      0.975]\n",
      "------------------------------------------------------------------------------\n",
      "const          2.1140      0.321      6.588      0.000       1.479       2.750\n",
      "ACT            0.0388      0.013      3.040      0.003       0.014       0.064\n",
      "==============================================================================\n",
      "Omnibus:                       26.969   Durbin-Watson:                   1.831\n",
      "Prob(Omnibus):                  0.000   Jarque-Bera (JB):               47.360\n",
      "Skew:                          -0.994   Prob(JB):                     5.20e-11\n",
      "Kurtosis:                       5.349   Cond. No.                         142.\n",
      "==============================================================================\n",
      "\n",
      "Notes:\n",
      "[1] Standard Errors assume that the covariance matrix of the errors is correctly specified.\n"
     ]
    }
   ],
   "source": [
    "X = data[\"ACT\"]\n",
    "X = sm.add_constant(X)  # Add a constant term (intercept) to the model\n",
    "y = data[\"GPA\"]\n",
    "model = sm.OLS(y, X).fit()\n",
    "print(model.summary())"
   ]
  },
  {
   "cell_type": "markdown",
   "metadata": {},
   "source": [
    "##### b. Test H0: Beta_1 = 0 at the 0.01 level of significance"
   ]
  },
  {
   "cell_type": "code",
   "execution_count": 17,
   "metadata": {},
   "outputs": [
    {
     "name": "stderr",
     "output_type": "stream",
     "text": [
      "C:\\Users\\kwame\\AppData\\Local\\Temp\\ipykernel_11484\\1923457823.py:2: FutureWarning: Series.__getitem__ treating keys as positions is deprecated. In a future version, integer keys will always be treated as labels (consistent with DataFrame behavior). To access a value by position, use `ser.iloc[pos]`\n",
      "  t_star = model.tvalues[1]\n",
      "C:\\Users\\kwame\\AppData\\Local\\Temp\\ipykernel_11484\\1923457823.py:3: FutureWarning: Series.__getitem__ treating keys as positions is deprecated. In a future version, integer keys will always be treated as labels (consistent with DataFrame behavior). To access a value by position, use `ser.iloc[pos]`\n",
      "  p_value = model.pvalues[1]\n"
     ]
    }
   ],
   "source": [
    "t_star = model.tvalues[1]\n",
    "p_value = model.pvalues[1]\n",
    "critical_value = 2.626  "
   ]
  },
  {
   "cell_type": "code",
   "execution_count": 18,
   "metadata": {},
   "outputs": [
    {
     "name": "stdout",
     "output_type": "stream",
     "text": [
      "t_star > 2.626: True\n"
     ]
    }
   ],
   "source": [
    "# Check if t_star exceeds the critical value\n",
    "print(f\"t_star > {critical_value}: {t_star > critical_value}\")"
   ]
  },
  {
   "cell_type": "code",
   "execution_count": 19,
   "metadata": {},
   "outputs": [
    {
     "name": "stdout",
     "output_type": "stream",
     "text": [
      "p_value < 0.025: True\n"
     ]
    }
   ],
   "source": [
    "# Check if p-value is less than 0.025 (0.01 significance level for a two-tailed test)\n",
    "print(f\"p_value < 0.025: {p_value < 0.025}\")"
   ]
  },
  {
   "cell_type": "markdown",
   "metadata": {},
   "source": [
    "##### c. The maximum type 1 error is 0.01 and the p-value is 0.0029, hence reject H_o"
   ]
  },
  {
   "cell_type": "code",
   "execution_count": 24,
   "metadata": {},
   "outputs": [
    {
     "name": "stdout",
     "output_type": "stream",
     "text": [
      "P-value for the model: 0.0029166038830636407\n"
     ]
    }
   ],
   "source": [
    "p_value = model.f_pvalue\n",
    "\n",
    "# Display the p-value\n",
    "print(\"P-value for the model:\", p_value)"
   ]
  }
 ],
 "metadata": {
  "kernelspec": {
   "display_name": "Python 3",
   "language": "python",
   "name": "python3"
  },
  "language_info": {
   "codemirror_mode": {
    "name": "ipython",
    "version": 3
   },
   "file_extension": ".py",
   "mimetype": "text/x-python",
   "name": "python",
   "nbconvert_exporter": "python",
   "pygments_lexer": "ipython3",
   "version": "3.11.5"
  }
 },
 "nbformat": 4,
 "nbformat_minor": 2
}
